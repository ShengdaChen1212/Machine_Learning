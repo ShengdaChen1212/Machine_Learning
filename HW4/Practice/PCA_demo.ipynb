{
 "cells": [
  {
   "cell_type": "code",
   "execution_count": 1,
   "metadata": {
    "executionInfo": {
     "elapsed": 2,
     "status": "ok",
     "timestamp": 1715579752840,
     "user": {
      "displayName": "陳文琪",
      "userId": "04488905687338647877"
     },
     "user_tz": -480
    },
    "id": "Q3gqRwk7Bko4"
   },
   "outputs": [],
   "source": [
    "# -*- coding: utf-8 -*-\n",
    "\"\"\"\n",
    "Created on Tue May 10 15:08:27 2022\n",
    "\n",
    "@author: ess\n",
    "\"\"\"\n",
    "\n",
    "import numpy as np\n",
    "import matplotlib.pyplot as plt\n",
    "import numpy.random as rnd"
   ]
  },
  {
   "cell_type": "markdown",
   "metadata": {
    "id": "egty7-aqB2Pe"
   },
   "source": [
    "### Create random 4d data"
   ]
  },
  {
   "cell_type": "code",
   "execution_count": 2,
   "metadata": {
    "colab": {
     "base_uri": "https://localhost:8080/"
    },
    "executionInfo": {
     "elapsed": 652,
     "status": "ok",
     "timestamp": 1715579757039,
     "user": {
      "displayName": "陳文琪",
      "userId": "04488905687338647877"
     },
     "user_tz": -480
    },
    "id": "bGfzbz4SBmhV",
    "outputId": "003dabd7-c670-439f-9f18-d8636b26656f"
   },
   "outputs": [
    {
     "name": "stdout",
     "output_type": "stream",
     "text": [
      "Mu  (4,)\n",
      "Sigma  (4, 4)\n"
     ]
    }
   ],
   "source": [
    "mu = np.array([10,13,7,6])\n",
    "sigma = np.array([[12.61, 11.51, 11.52, 11.32], [11.51, 12.44, 11.36, 11.33], [11.52, 11.36, 12.83, 11.34],\n",
    "                  [11.32, 11.33, 11.34, 12.27]])\n",
    "y = np.linspace(1, 100, num = 1000)\n",
    "print(\"Mu \", mu.shape)\n",
    "print(\"Sigma \", sigma.shape)"
   ]
  },
  {
   "cell_type": "markdown",
   "metadata": {
    "id": "cEon3SDCB6NX"
   },
   "source": [
    "### Create 1000 samples using mean and sigma"
   ]
  },
  {
   "cell_type": "code",
   "execution_count": 3,
   "metadata": {
    "colab": {
     "base_uri": "https://localhost:8080/"
    },
    "executionInfo": {
     "elapsed": 347,
     "status": "ok",
     "timestamp": 1715579760650,
     "user": {
      "displayName": "陳文琪",
      "userId": "04488905687338647877"
     },
     "user_tz": -480
    },
    "id": "1lYQzwsCBt6H",
    "outputId": "21aa5447-451c-414e-a5e2-b2baac15cb9d"
   },
   "outputs": [
    {
     "name": "stdout",
     "output_type": "stream",
     "text": [
      "Data shape  (1000, 4)\n"
     ]
    }
   ],
   "source": [
    "org_data = rnd.multivariate_normal(mu, sigma, size=(1000))\n",
    "print(\"Data shape \", org_data.shape)"
   ]
  },
  {
   "cell_type": "markdown",
   "metadata": {
    "id": "TYtjWxtrB7aV"
   },
   "source": [
    "### Subtract mean from data"
   ]
  },
  {
   "cell_type": "code",
   "execution_count": 4,
   "metadata": {
    "colab": {
     "base_uri": "https://localhost:8080/"
    },
    "executionInfo": {
     "elapsed": 309,
     "status": "ok",
     "timestamp": 1715579764405,
     "user": {
      "displayName": "陳文琪",
      "userId": "04488905687338647877"
     },
     "user_tz": -480
    },
    "id": "umqgcXeMBvfm",
    "outputId": "27fe3fe8-932f-493a-9f2e-c1e61dc6069f"
   },
   "outputs": [
    {
     "name": "stdout",
     "output_type": "stream",
     "text": [
      "Mean  (4,)\n",
      "Data after subtracting mean  (1000, 4) \n",
      "\n"
     ]
    }
   ],
   "source": [
    "mean = np.mean(org_data, axis= 0)\n",
    "print(\"Mean \", mean.shape)\n",
    "mean_data = org_data - mean\n",
    "print(\"Data after subtracting mean \", org_data.shape, \"\\n\")"
   ]
  },
  {
   "cell_type": "markdown",
   "metadata": {
    "id": "OygnxjtsB_Bh"
   },
   "source": [
    "### Compute covariance matrix"
   ]
  },
  {
   "cell_type": "code",
   "execution_count": 5,
   "metadata": {
    "colab": {
     "base_uri": "https://localhost:8080/"
    },
    "executionInfo": {
     "elapsed": 245,
     "status": "ok",
     "timestamp": 1715579768594,
     "user": {
      "displayName": "陳文琪",
      "userId": "04488905687338647877"
     },
     "user_tz": -480
    },
    "id": "vxCN9VMTBxT_",
    "outputId": "5e5e2d64-d731-4379-daa7-c9928bfb644b"
   },
   "outputs": [
    {
     "name": "stdout",
     "output_type": "stream",
     "text": [
      "Covariance matrix  (4, 4) \n",
      "\n"
     ]
    }
   ],
   "source": [
    "cov = np.cov(mean_data.T)\n",
    "cov = np.round(cov, 2)\n",
    "print(\"Covariance matrix \", cov.shape, \"\\n\")"
   ]
  },
  {
   "cell_type": "markdown",
   "metadata": {
    "id": "ZFwyltGyCAoa"
   },
   "source": [
    "### Perform eigen decomposition of covariance matrix"
   ]
  },
  {
   "cell_type": "code",
   "execution_count": 6,
   "metadata": {
    "colab": {
     "base_uri": "https://localhost:8080/"
    },
    "executionInfo": {
     "elapsed": 272,
     "status": "ok",
     "timestamp": 1715579772874,
     "user": {
      "displayName": "陳文琪",
      "userId": "04488905687338647877"
     },
     "user_tz": -480
    },
    "id": "TbRgju08ByiW",
    "outputId": "a7343ee6-289b-4338-e586-59c3cdee025d"
   },
   "outputs": [
    {
     "name": "stdout",
     "output_type": "stream",
     "text": [
      "Eigen vectors  [[ 0.50858694  0.32729825  0.7370175   0.30169584]\n",
      " [ 0.49583054  0.40784032 -0.22299342 -0.73354774]\n",
      " [ 0.50817455 -0.84344507  0.08593536 -0.15157223]\n",
      " [ 0.48708318  0.12305501 -0.63221377  0.58984167]]\n",
      "Eigen values  [42.63099174  1.38039599  1.03254741  0.92606486] \n",
      "\n"
     ]
    }
   ],
   "source": [
    "eig_val, eig_vec = np.linalg.eig(cov)\n",
    "print(\"Eigen vectors \", eig_vec)\n",
    "print(\"Eigen values \", eig_val, \"\\n\")"
   ]
  },
  {
   "cell_type": "markdown",
   "metadata": {
    "id": "ZBZXDluvCC3G"
   },
   "source": [
    "### Sort eigen values and corresponding eigen vectors in descending order"
   ]
  },
  {
   "cell_type": "code",
   "execution_count": 7,
   "metadata": {
    "colab": {
     "base_uri": "https://localhost:8080/"
    },
    "executionInfo": {
     "elapsed": 358,
     "status": "ok",
     "timestamp": 1715579777050,
     "user": {
      "displayName": "陳文琪",
      "userId": "04488905687338647877"
     },
     "user_tz": -480
    },
    "id": "9OE8ikttBzl7",
    "outputId": "44bd0921-b1d9-43bc-d461-bc26cf5a6f2c"
   },
   "outputs": [
    {
     "name": "stdout",
     "output_type": "stream",
     "text": [
      "Sorted Eigen vectors  [[ 0.50858694  0.32729825  0.7370175   0.30169584]\n",
      " [ 0.49583054  0.40784032 -0.22299342 -0.73354774]\n",
      " [ 0.50817455 -0.84344507  0.08593536 -0.15157223]\n",
      " [ 0.48708318  0.12305501 -0.63221377  0.58984167]]\n",
      "Sorted Eigen values  [42.63099174  1.38039599  1.03254741  0.92606486] \n",
      "\n"
     ]
    }
   ],
   "source": [
    "indices = np.arange(0,len(eig_val), 1)\n",
    "indices = ([x for _,x in sorted(zip(eig_val, indices))])[::-1]\n",
    "eig_val = eig_val[indices]\n",
    "eig_vec = eig_vec[:,indices]\n",
    "print(\"Sorted Eigen vectors \", eig_vec)\n",
    "print(\"Sorted Eigen values \", eig_val, \"\\n\")"
   ]
  },
  {
   "cell_type": "markdown",
   "metadata": {
    "id": "fhAHfGyQCFYG"
   },
   "source": [
    "### Get explained variance"
   ]
  },
  {
   "cell_type": "code",
   "execution_count": 8,
   "metadata": {
    "colab": {
     "base_uri": "https://localhost:8080/"
    },
    "executionInfo": {
     "elapsed": 308,
     "status": "ok",
     "timestamp": 1715579781855,
     "user": {
      "displayName": "陳文琪",
      "userId": "04488905687338647877"
     },
     "user_tz": -480
    },
    "id": "t5lXfe6YB0k1",
    "outputId": "7c3a9dfc-d500-4408-dc2c-892d0d72f1d6"
   },
   "outputs": [
    {
     "name": "stdout",
     "output_type": "stream",
     "text": [
      "[0.92736549 0.03002819 0.02246133 0.02014498]\n",
      "[0.92736549 0.95739369 0.97985502 1.        ]\n"
     ]
    }
   ],
   "source": [
    "sum_eig_val = np.sum(eig_val)\n",
    "explained_variance = eig_val/ sum_eig_val\n",
    "print(explained_variance)\n",
    "cumulative_variance = np.cumsum(explained_variance)\n",
    "print(cumulative_variance)"
   ]
  },
  {
   "cell_type": "markdown",
   "metadata": {
    "id": "V7T1EOkMCHQX"
   },
   "source": [
    "### Take transpose of eigen vectors with data"
   ]
  },
  {
   "cell_type": "code",
   "execution_count": 9,
   "metadata": {
    "colab": {
     "base_uri": "https://localhost:8080/"
    },
    "executionInfo": {
     "elapsed": 3,
     "status": "ok",
     "timestamp": 1715579783713,
     "user": {
      "displayName": "陳文琪",
      "userId": "04488905687338647877"
     },
     "user_tz": -480
    },
    "id": "zAiyYt2FB1a-",
    "outputId": "c0b3a44a-a198-45df-cf1c-3af5d2d4fcd2"
   },
   "outputs": [
    {
     "name": "stdout",
     "output_type": "stream",
     "text": [
      "Transformed data  (1000, 4)\n"
     ]
    }
   ],
   "source": [
    "pca_data = np.dot(mean_data, eig_vec)\n",
    "print(\"Transformed data \", pca_data.shape)"
   ]
  },
  {
   "cell_type": "code",
   "execution_count": 10,
   "metadata": {
    "id": "zZU6q1nYMRUs"
   },
   "outputs": [
    {
     "ename": "NameError",
     "evalue": "name 'datasets' is not defined",
     "output_type": "error",
     "traceback": [
      "\u001b[1;31m---------------------------------------------------------------------------\u001b[0m",
      "\u001b[1;31mNameError\u001b[0m                                 Traceback (most recent call last)",
      "Cell \u001b[1;32mIn[10], line 1\u001b[0m\n\u001b[1;32m----> 1\u001b[0m mpg \u001b[38;5;241m=\u001b[39m datasets\u001b[38;5;241m.\u001b[39mload_iris()\n",
      "\u001b[1;31mNameError\u001b[0m: name 'datasets' is not defined"
     ]
    }
   ],
   "source": [
    "mpg = datasets.load_iris()"
   ]
  },
  {
   "cell_type": "markdown",
   "metadata": {
    "id": "sbm8XmuACVKS"
   },
   "source": [
    "reference : https://towardsdatascience.com/a-step-by-step-implementation-of-principal-component-analysis-5520cc6cd598"
   ]
  }
 ],
 "metadata": {
  "colab": {
   "provenance": []
  },
  "kernelspec": {
   "display_name": "Python 3 (ipykernel)",
   "language": "python",
   "name": "python3"
  },
  "language_info": {
   "codemirror_mode": {
    "name": "ipython",
    "version": 3
   },
   "file_extension": ".py",
   "mimetype": "text/x-python",
   "name": "python",
   "nbconvert_exporter": "python",
   "pygments_lexer": "ipython3",
   "version": "3.11.7"
  }
 },
 "nbformat": 4,
 "nbformat_minor": 1
}
